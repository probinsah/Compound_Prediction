{
 "cells": [
  {
   "attachments": {
    "multiclass-svm.webp": {
     "image/webp": "[encoded data removed]"
    }
   },
   "cell_type": "markdown",
   "metadata": {},
   "source": [
    "# Support Vector Machine (SVM). \n",
    "**SVM** is a supervised machine learning algorithm that helps in classification or regression problems. It aims to find an optimal boundary between the possible outputs. \n",
    "* SVM tries to find a line that maximizes the separation between a two-class data set of n-dimensional space points. To generalize, the objective is to find a hyperplane that maximizes the separation of the data points to their potential classes in an n-dimensional space. The data points with the minimum distance to the hyperplane (closest points) are called **Support Vectors**.\n",
    "\n",
    "## Multiclass Classification Using SVM.\n",
    "In its most simple type, SVM doesn’t support multiclass classification natively. It supports binary classification and separating data points into two classes. For multiclass classification, the same principle is utilized after breaking down the multiclassification problem into multiple binary classification problems.\n",
    "\n",
    "The idea is to map data points to high dimensional space to gain mutual linear separation between every two classes. \n",
    "* The approach  which breaks down the multiclass problem into multiple binary classification problems is called a **One-to-One approach**. A binary classifier per each pair of classes.\n",
    "\n",
    "* The another approach one can use is **One-to-Rest**. In this approach, the breakdown is set to a binary classifier per each class.\n",
    "\n",
    "A single SVM does binary classification and can differentiate between two classes. So that, according to the two breakdown approaches, to classify data points from m classes data set:\n",
    "\n",
    "* In the **One-to-Rest approach**, the classifier can use **m** SVMs. Each SVM would predict membership in one of the **m** classes.\n",
    "* In the **One-to-One approach**, the classifier can use **m(m-1)/2** SVMs.\n",
    "![multiclass-svm.webp](attachment:multiclass-svm.webp)"
   ]
  },
  {
   "cell_type": "code",
   "execution_count": 1,
   "metadata": {},
   "outputs": [],
   "source": [
    "# Import important libraries\n",
    "import numpy as np #linear algebra\n",
    "import pandas as pd # a data processing and CSV I/O library\n",
    "\n",
    "import warnings # current version of seaborn generates a bunch of warnings that will be ignore\n",
    "warnings.filterwarnings('ignore')\n",
    "\n",
    "# Data Visualization\n",
    "import seaborn as sns\n",
    "import matplotlib.pyplot as plt\n",
    "%matplotlib inline\n",
    "sns.set(style='white', color_codes=True)"
   ]
  },
  {
   "cell_type": "code",
   "execution_count": 2,
   "metadata": {},
   "outputs": [
    {
     "data": {
      "text/html": [
       "<div>\n",
       "<style scoped>\n",
       "    .dataframe tbody tr th:only-of-type {\n",
       "        vertical-align: middle;\n",
       "    }\n",
       "\n",
       "    .dataframe tbody tr th {\n",
       "        vertical-align: top;\n",
       "    }\n",
       "\n",
       "    .dataframe thead th {\n",
       "        text-align: right;\n",
       "    }\n",
       "</style>\n",
       "<table border=\"1\" class=\"dataframe\">\n",
       "  <thead>\n",
       "    <tr style=\"text-align: right;\">\n",
       "      <th></th>\n",
       "      <th>ID</th>\n",
       "      <th>Sensor1</th>\n",
       "      <th>Sensor2</th>\n",
       "      <th>Sensor3</th>\n",
       "      <th>Sensor4</th>\n",
       "      <th>Compound</th>\n",
       "    </tr>\n",
       "  </thead>\n",
       "  <tbody>\n",
       "    <tr>\n",
       "      <th>0</th>\n",
       "      <td>1</td>\n",
       "      <td>7724200</td>\n",
       "      <td>19702100</td>\n",
       "      <td>24094500</td>\n",
       "      <td>239833</td>\n",
       "      <td>Acetone</td>\n",
       "    </tr>\n",
       "    <tr>\n",
       "      <th>1</th>\n",
       "      <td>2</td>\n",
       "      <td>7732180</td>\n",
       "      <td>20105200</td>\n",
       "      <td>23921400</td>\n",
       "      <td>239807</td>\n",
       "      <td>Acetone</td>\n",
       "    </tr>\n",
       "    <tr>\n",
       "      <th>2</th>\n",
       "      <td>3</td>\n",
       "      <td>7715400</td>\n",
       "      <td>19960900</td>\n",
       "      <td>23898700</td>\n",
       "      <td>239504</td>\n",
       "      <td>Acetone</td>\n",
       "    </tr>\n",
       "    <tr>\n",
       "      <th>3</th>\n",
       "      <td>4</td>\n",
       "      <td>7765770</td>\n",
       "      <td>19935600</td>\n",
       "      <td>23244900</td>\n",
       "      <td>239611</td>\n",
       "      <td>Acetone</td>\n",
       "    </tr>\n",
       "    <tr>\n",
       "      <th>4</th>\n",
       "      <td>5</td>\n",
       "      <td>7713900</td>\n",
       "      <td>19939200</td>\n",
       "      <td>23230600</td>\n",
       "      <td>239121</td>\n",
       "      <td>Acetone</td>\n",
       "    </tr>\n",
       "    <tr>\n",
       "      <th>5</th>\n",
       "      <td>6</td>\n",
       "      <td>7668770</td>\n",
       "      <td>20131300</td>\n",
       "      <td>23661500</td>\n",
       "      <td>238942</td>\n",
       "      <td>Acetone</td>\n",
       "    </tr>\n",
       "    <tr>\n",
       "      <th>6</th>\n",
       "      <td>7</td>\n",
       "      <td>7680430</td>\n",
       "      <td>19891200</td>\n",
       "      <td>24438300</td>\n",
       "      <td>239002</td>\n",
       "      <td>Acetone</td>\n",
       "    </tr>\n",
       "    <tr>\n",
       "      <th>7</th>\n",
       "      <td>8</td>\n",
       "      <td>7685920</td>\n",
       "      <td>19946200</td>\n",
       "      <td>23650000</td>\n",
       "      <td>238661</td>\n",
       "      <td>Acetone</td>\n",
       "    </tr>\n",
       "    <tr>\n",
       "      <th>8</th>\n",
       "      <td>9</td>\n",
       "      <td>7659660</td>\n",
       "      <td>20084000</td>\n",
       "      <td>23766200</td>\n",
       "      <td>238489</td>\n",
       "      <td>Acetone</td>\n",
       "    </tr>\n",
       "    <tr>\n",
       "      <th>9</th>\n",
       "      <td>10</td>\n",
       "      <td>7639480</td>\n",
       "      <td>19950700</td>\n",
       "      <td>23848100</td>\n",
       "      <td>238535</td>\n",
       "      <td>Acetone</td>\n",
       "    </tr>\n",
       "  </tbody>\n",
       "</table>\n",
       "</div>"
      ],
      "text/plain": [
       "   ID  Sensor1   Sensor2   Sensor3  Sensor4 Compound\n",
       "0   1  7724200  19702100  24094500   239833  Acetone\n",
       "1   2  7732180  20105200  23921400   239807  Acetone\n",
       "2   3  7715400  19960900  23898700   239504  Acetone\n",
       "3   4  7765770  19935600  23244900   239611  Acetone\n",
       "4   5  7713900  19939200  23230600   239121  Acetone\n",
       "5   6  7668770  20131300  23661500   238942  Acetone\n",
       "6   7  7680430  19891200  24438300   239002  Acetone\n",
       "7   8  7685920  19946200  23650000   238661  Acetone\n",
       "8   9  7659660  20084000  23766200   238489  Acetone\n",
       "9  10  7639480  19950700  23848100   238535  Acetone"
      ]
     },
     "execution_count": 2,
     "metadata": {},
     "output_type": "execute_result"
    }
   ],
   "source": [
    "#Import data file\n",
    "df = pd.read_csv('C:\\\\ABC\\\\NewData.csv')\n",
    "df.head(10)"
   ]
  },
  {
   "cell_type": "code",
   "execution_count": 3,
   "metadata": {},
   "outputs": [
    {
     "data": {
      "text/plain": [
       "Acetone       1020\n",
       "Ethanol        781\n",
       "Xylene         757\n",
       "Benzene        737\n",
       "2-propanol     723\n",
       "Methanol       659\n",
       "Toluene        651\n",
       "Name: Compound, dtype: int64"
      ]
     },
     "execution_count": 3,
     "metadata": {},
     "output_type": "execute_result"
    }
   ],
   "source": [
    "#Data Overview\n",
    "df['Compound'].value_counts()"
   ]
  },
  {
   "cell_type": "code",
   "execution_count": 4,
   "metadata": {},
   "outputs": [],
   "source": [
    "# Removing Unnecessary Column\n",
    "df.drop(\"ID\", axis=1, inplace = True)"
   ]
  },
  {
   "cell_type": "code",
   "execution_count": 5,
   "metadata": {},
   "outputs": [
    {
     "data": {
      "text/plain": [
       "(5328, 5)"
      ]
     },
     "execution_count": 5,
     "metadata": {},
     "output_type": "execute_result"
    }
   ],
   "source": [
    "df.shape"
   ]
  },
  {
   "attachments": {
    "training.png": {
     "image/png": "[encoded data removed]"
    }
   },
   "cell_type": "markdown",
   "metadata": {},
   "source": [
    "### Splitting The Data into Training And Testing Dataset for SVM.\n",
    "The data we use is split into **training data** and **test data**. The training set contains a known output and the model learns on this data in order to be generalized to other data later on. We have the test dataset (or subset) in order to test our model’s prediction on this subset.!![training.png](attachment:training.png)"
   ]
  },
  {
   "cell_type": "code",
   "execution_count": 6,
   "metadata": {},
   "outputs": [
    {
     "name": "stdout",
     "output_type": "stream",
     "text": [
      "(3729, 5)\n",
      "(1599, 5)\n"
     ]
    }
   ],
   "source": [
    "# to split the dataset for training and testing\n",
    "from sklearn.model_selection import train_test_split \n",
    "from sklearn import metrics # for checking the model accuracy\n",
    "train, test = train_test_split(df, test_size=0.3) # our main data split into train and test\n",
    "# the attribute test_size=0.3 splits the data into 70% and 30% ratio. train=70% and test=30%\n",
    "print(train.shape)\n",
    "print(test.shape)"
   ]
  },
  {
   "cell_type": "code",
   "execution_count": 7,
   "metadata": {},
   "outputs": [],
   "source": [
    "X_train = train[['Sensor1','Sensor2','Sensor3','Sensor4']] # taking the training data features\n",
    "y_train = train.Compound # output of the training data\n",
    "\n",
    "X_test = test[['Sensor1','Sensor2','Sensor3','Sensor4']] # taking test data feature\n",
    "y_test = test.Compound # output value of the test data"
   ]
  },
  {
   "cell_type": "code",
   "execution_count": 8,
   "metadata": {},
   "outputs": [
    {
     "data": {
      "text/html": [
       "<div>\n",
       "<style scoped>\n",
       "    .dataframe tbody tr th:only-of-type {\n",
       "        vertical-align: middle;\n",
       "    }\n",
       "\n",
       "    .dataframe tbody tr th {\n",
       "        vertical-align: top;\n",
       "    }\n",
       "\n",
       "    .dataframe thead th {\n",
       "        text-align: right;\n",
       "    }\n",
       "</style>\n",
       "<table border=\"1\" class=\"dataframe\">\n",
       "  <thead>\n",
       "    <tr style=\"text-align: right;\">\n",
       "      <th></th>\n",
       "      <th>Sensor1</th>\n",
       "      <th>Sensor2</th>\n",
       "      <th>Sensor3</th>\n",
       "      <th>Sensor4</th>\n",
       "    </tr>\n",
       "  </thead>\n",
       "  <tbody>\n",
       "    <tr>\n",
       "      <th>2952</th>\n",
       "      <td>4052570</td>\n",
       "      <td>7728080</td>\n",
       "      <td>16635200</td>\n",
       "      <td>198306</td>\n",
       "    </tr>\n",
       "    <tr>\n",
       "      <th>3141</th>\n",
       "      <td>4076399</td>\n",
       "      <td>7354490</td>\n",
       "      <td>17013817</td>\n",
       "      <td>196361</td>\n",
       "    </tr>\n",
       "    <tr>\n",
       "      <th>1393</th>\n",
       "      <td>4202910</td>\n",
       "      <td>11108500</td>\n",
       "      <td>19519400</td>\n",
       "      <td>369373</td>\n",
       "    </tr>\n",
       "    <tr>\n",
       "      <th>954</th>\n",
       "      <td>4225919</td>\n",
       "      <td>13455894</td>\n",
       "      <td>17151517</td>\n",
       "      <td>203085</td>\n",
       "    </tr>\n",
       "    <tr>\n",
       "      <th>2293</th>\n",
       "      <td>4190629</td>\n",
       "      <td>12046000</td>\n",
       "      <td>6299840</td>\n",
       "      <td>316715</td>\n",
       "    </tr>\n",
       "  </tbody>\n",
       "</table>\n",
       "</div>"
      ],
      "text/plain": [
       "      Sensor1   Sensor2   Sensor3  Sensor4\n",
       "2952  4052570   7728080  16635200   198306\n",
       "3141  4076399   7354490  17013817   196361\n",
       "1393  4202910  11108500  19519400   369373\n",
       "954   4225919  13455894  17151517   203085\n",
       "2293  4190629  12046000   6299840   316715"
      ]
     },
     "execution_count": 8,
     "metadata": {},
     "output_type": "execute_result"
    }
   ],
   "source": [
    "# View of Our Training Dataset. \n",
    "X_train.head()"
   ]
  },
  {
   "cell_type": "code",
   "execution_count": 9,
   "metadata": {},
   "outputs": [
    {
     "data": {
      "text/html": [
       "<div>\n",
       "<style scoped>\n",
       "    .dataframe tbody tr th:only-of-type {\n",
       "        vertical-align: middle;\n",
       "    }\n",
       "\n",
       "    .dataframe tbody tr th {\n",
       "        vertical-align: top;\n",
       "    }\n",
       "\n",
       "    .dataframe thead th {\n",
       "        text-align: right;\n",
       "    }\n",
       "</style>\n",
       "<table border=\"1\" class=\"dataframe\">\n",
       "  <thead>\n",
       "    <tr style=\"text-align: right;\">\n",
       "      <th></th>\n",
       "      <th>Sensor1</th>\n",
       "      <th>Sensor2</th>\n",
       "      <th>Sensor3</th>\n",
       "      <th>Sensor4</th>\n",
       "    </tr>\n",
       "  </thead>\n",
       "  <tbody>\n",
       "    <tr>\n",
       "      <th>675</th>\n",
       "      <td>4074850</td>\n",
       "      <td>14067474</td>\n",
       "      <td>17282164</td>\n",
       "      <td>205099</td>\n",
       "    </tr>\n",
       "    <tr>\n",
       "      <th>3215</th>\n",
       "      <td>4021235</td>\n",
       "      <td>7851590</td>\n",
       "      <td>17264772</td>\n",
       "      <td>202220</td>\n",
       "    </tr>\n",
       "    <tr>\n",
       "      <th>1410</th>\n",
       "      <td>4167350</td>\n",
       "      <td>13332500</td>\n",
       "      <td>19516500</td>\n",
       "      <td>365781</td>\n",
       "    </tr>\n",
       "    <tr>\n",
       "      <th>1824</th>\n",
       "      <td>5098240</td>\n",
       "      <td>18152200</td>\n",
       "      <td>9660080</td>\n",
       "      <td>335402</td>\n",
       "    </tr>\n",
       "    <tr>\n",
       "      <th>5004</th>\n",
       "      <td>4441210</td>\n",
       "      <td>13375600</td>\n",
       "      <td>5370890</td>\n",
       "      <td>320154</td>\n",
       "    </tr>\n",
       "  </tbody>\n",
       "</table>\n",
       "</div>"
      ],
      "text/plain": [
       "      Sensor1   Sensor2   Sensor3  Sensor4\n",
       "675   4074850  14067474  17282164   205099\n",
       "3215  4021235   7851590  17264772   202220\n",
       "1410  4167350  13332500  19516500   365781\n",
       "1824  5098240  18152200   9660080   335402\n",
       "5004  4441210  13375600   5370890   320154"
      ]
     },
     "execution_count": 9,
     "metadata": {},
     "output_type": "execute_result"
    }
   ],
   "source": [
    "# View of Our Testing Dataset.\n",
    "X_test.head()"
   ]
  },
  {
   "cell_type": "code",
   "execution_count": 10,
   "metadata": {},
   "outputs": [
    {
     "data": {
      "text/plain": [
       "2952       Ethanol\n",
       "3141       Ethanol\n",
       "1393    2-propanol\n",
       "954        Acetone\n",
       "2293       Benzene\n",
       "Name: Compound, dtype: object"
      ]
     },
     "execution_count": 10,
     "metadata": {},
     "output_type": "execute_result"
    }
   ],
   "source": [
    "y_train.head()"
   ]
  },
  {
   "cell_type": "code",
   "execution_count": 12,
   "metadata": {},
   "outputs": [],
   "source": [
    "# Important module for SVM algorithm.\n",
    "from sklearn import svm, datasets\n",
    "import sklearn.model_selection as model_selection\n",
    "from sklearn.metrics import accuracy_score\n",
    "from sklearn.metrics import f1_score"
   ]
  },
  {
   "cell_type": "markdown",
   "metadata": {},
   "source": [
    "We’ll create two objects from SVM, to create two different classifiers; one with Polynomial kernel, and another one with RBF kernel:"
   ]
  },
  {
   "cell_type": "code",
   "execution_count": 13,
   "metadata": {},
   "outputs": [],
   "source": [
    "rbf = svm.SVC(kernel='rbf', gamma=0.5, C=0.1).fit(X_train, y_train)\n",
    "poly = svm.SVC(kernel='poly', degree=3, C=1).fit(X_train, y_train)"
   ]
  },
  {
   "cell_type": "markdown",
   "metadata": {},
   "source": [
    "To calculate the efficiency of the two models, we’ll test the two classifiers using the test data set:"
   ]
  },
  {
   "cell_type": "code",
   "execution_count": 14,
   "metadata": {},
   "outputs": [],
   "source": [
    "poly_pred = poly.predict(X_test)\n",
    "rbf_pred = rbf.predict(X_test)"
   ]
  },
  {
   "cell_type": "markdown",
   "metadata": {},
   "source": [
    "Finally, we will calculate the accuracy and f1 scores for SVM with Polynomial kernel:"
   ]
  },
  {
   "cell_type": "code",
   "execution_count": 17,
   "metadata": {},
   "outputs": [
    {
     "name": "stdout",
     "output_type": "stream",
     "text": [
      "Accuracy (Polynomial Kernel):  95.50\n",
      "F1 (Polynomial Kernel):  95.52\n"
     ]
    }
   ],
   "source": [
    "poly_accuracy = accuracy_score(y_test, poly_pred)\n",
    "poly_f1 = f1_score(y_test, poly_pred, average='weighted')\n",
    "print('Accuracy (Polynomial Kernel): ', \"%.2f\" % (poly_accuracy*100))\n",
    "print('F1 (Polynomial Kernel): ', \"%.2f\" % (poly_f1*100))"
   ]
  },
  {
   "cell_type": "code",
   "execution_count": 20,
   "metadata": {},
   "outputs": [
    {
     "data": {
      "text/plain": [
       "array([[205,   4,   0,   0,   0,   0,   0],\n",
       "       [ 15, 292,   0,   0,   0,   0,   0],\n",
       "       [  0,   0, 238,   0,   0,   0,   0],\n",
       "       [ 21,   0,   0, 211,   0,   0,   0],\n",
       "       [  0,   0,   0,   0, 190,   0,   0],\n",
       "       [  0,   0,  13,   0,   0, 184,  12],\n",
       "       [  0,   0,   0,   0,   0,   7, 207]], dtype=int64)"
      ]
     },
     "execution_count": 20,
     "metadata": {},
     "output_type": "execute_result"
    }
   ],
   "source": [
    "#Confusion Matrix for SVM\n",
    "from sklearn.metrics import confusion_matrix\n",
    "from sklearn.metrics import plot_confusion_matrix\n",
    "cm = confusion_matrix(y_test, poly_pred)\n",
    "cm"
   ]
  },
  {
   "cell_type": "code",
   "execution_count": 26,
   "metadata": {},
   "outputs": [
    {
     "name": "stdout",
     "output_type": "stream",
     "text": [
      "*** Test Accuracy *** 0.9549718574108818\n"
     ]
    },
    {
     "data": {
      "image/png": "[encoded data removed]",
      "text/plain": [
       "<Figure size 432x288 with 2 Axes>"
      ]
     },
     "metadata": {},
     "output_type": "display_data"
    }
   ],
   "source": [
    "print('*** Test Accuracy ***',poly.score(X_test,y_test))\n",
    "disp = plot_confusion_matrix(poly, X_test, y_test,\n",
    "                                 display_labels=['Acetone','Ethanol','2-propanol','Benzene','Methanol','Xylene','Toluene'],\n",
    "                                 xticks_rotation=90,cmap=plt.cm.Blues,\n",
    "                             values_format='g'\n",
    "                            )"
   ]
  },
  {
   "cell_type": "markdown",
   "metadata": {},
   "source": [
    "For the accuracy score, it shows the percentage of the true positive and true negative to all data points. So, it’s useful when the data set is balanced.\n",
    "\n",
    "For the f1 score, it calculates the harmonic mean between precision and recall, and both depend on the false positive and false negative. So, it’s useful to calculate the f1 score when the data set isn’t balanced."
   ]
  }
 ],
 "metadata": {
  "kernelspec": {
   "display_name": "Python 3",
   "language": "python",
   "name": "python3"
  },
  "language_info": {
   "codemirror_mode": {
    "name": "ipython",
    "version": 3
   },
   "file_extension": ".py",
   "mimetype": "text/x-python",
   "name": "python",
   "nbconvert_exporter": "python",
   "pygments_lexer": "ipython3",
   "version": "3.8.3"
  }
 },
 "nbformat": 4,
 "nbformat_minor": 4
}
