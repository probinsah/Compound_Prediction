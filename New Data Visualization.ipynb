{
 "cells": [
  {
   "cell_type": "markdown",
   "metadata": {},
   "source": [
    "# Sensors Data Visualiation. \n",
    "\n",
    "Our Data contain four different Sensor data columns and one Compound columns which tell us the name of the Compound based on four different Sensor values. There are total 7 types of compound present in our dataset **(Acetone, Ethanol, Xylene, Benzene, 2-propanol, Methanol, Toluene)**.   "
   ]
  },
  {
   "cell_type": "code",
   "execution_count": 2,
   "metadata": {},
   "outputs": [],
   "source": [
    "import numpy as np #linear algebra\n",
    "import pandas as pd # a data processing and CSV I/O library\n",
    "\n",
    "import warnings # current version of seaborn generates a bunch of warnings that will be ignore\n",
    "warnings.filterwarnings('ignore')\n",
    "\n",
    "# Data Visualization\n",
    "import seaborn as sns\n",
    "import matplotlib.pyplot as plt\n",
    "%matplotlib inline\n",
    "sns.set(style='white', color_codes=True)"
   ]
  },
  {
   "cell_type": "code",
   "execution_count": 3,
   "metadata": {},
   "outputs": [
    {
     "data": {
      "text/html": [
       "<div>\n",
       "<style scoped>\n",
       "    .dataframe tbody tr th:only-of-type {\n",
       "        vertical-align: middle;\n",
       "    }\n",
       "\n",
       "    .dataframe tbody tr th {\n",
       "        vertical-align: top;\n",
       "    }\n",
       "\n",
       "    .dataframe thead th {\n",
       "        text-align: right;\n",
       "    }\n",
       "</style>\n",
       "<table border=\"1\" class=\"dataframe\">\n",
       "  <thead>\n",
       "    <tr style=\"text-align: right;\">\n",
       "      <th></th>\n",
       "      <th>ID</th>\n",
       "      <th>Sensor1</th>\n",
       "      <th>Sensor2</th>\n",
       "      <th>Sensor3</th>\n",
       "      <th>Sensor4</th>\n",
       "      <th>Compound</th>\n",
       "    </tr>\n",
       "  </thead>\n",
       "  <tbody>\n",
       "    <tr>\n",
       "      <th>0</th>\n",
       "      <td>1</td>\n",
       "      <td>7724200</td>\n",
       "      <td>19702100</td>\n",
       "      <td>24094500</td>\n",
       "      <td>239833</td>\n",
       "      <td>Acetone</td>\n",
       "    </tr>\n",
       "    <tr>\n",
       "      <th>1</th>\n",
       "      <td>2</td>\n",
       "      <td>7732180</td>\n",
       "      <td>20105200</td>\n",
       "      <td>23921400</td>\n",
       "      <td>239807</td>\n",
       "      <td>Acetone</td>\n",
       "    </tr>\n",
       "    <tr>\n",
       "      <th>2</th>\n",
       "      <td>3</td>\n",
       "      <td>7715400</td>\n",
       "      <td>19960900</td>\n",
       "      <td>23898700</td>\n",
       "      <td>239504</td>\n",
       "      <td>Acetone</td>\n",
       "    </tr>\n",
       "    <tr>\n",
       "      <th>3</th>\n",
       "      <td>4</td>\n",
       "      <td>7765770</td>\n",
       "      <td>19935600</td>\n",
       "      <td>23244900</td>\n",
       "      <td>239611</td>\n",
       "      <td>Acetone</td>\n",
       "    </tr>\n",
       "    <tr>\n",
       "      <th>4</th>\n",
       "      <td>5</td>\n",
       "      <td>7713900</td>\n",
       "      <td>19939200</td>\n",
       "      <td>23230600</td>\n",
       "      <td>239121</td>\n",
       "      <td>Acetone</td>\n",
       "    </tr>\n",
       "    <tr>\n",
       "      <th>5</th>\n",
       "      <td>6</td>\n",
       "      <td>7668770</td>\n",
       "      <td>20131300</td>\n",
       "      <td>23661500</td>\n",
       "      <td>238942</td>\n",
       "      <td>Acetone</td>\n",
       "    </tr>\n",
       "    <tr>\n",
       "      <th>6</th>\n",
       "      <td>7</td>\n",
       "      <td>7680430</td>\n",
       "      <td>19891200</td>\n",
       "      <td>24438300</td>\n",
       "      <td>239002</td>\n",
       "      <td>Acetone</td>\n",
       "    </tr>\n",
       "    <tr>\n",
       "      <th>7</th>\n",
       "      <td>8</td>\n",
       "      <td>7685920</td>\n",
       "      <td>19946200</td>\n",
       "      <td>23650000</td>\n",
       "      <td>238661</td>\n",
       "      <td>Acetone</td>\n",
       "    </tr>\n",
       "    <tr>\n",
       "      <th>8</th>\n",
       "      <td>9</td>\n",
       "      <td>7659660</td>\n",
       "      <td>20084000</td>\n",
       "      <td>23766200</td>\n",
       "      <td>238489</td>\n",
       "      <td>Acetone</td>\n",
       "    </tr>\n",
       "    <tr>\n",
       "      <th>9</th>\n",
       "      <td>10</td>\n",
       "      <td>7639480</td>\n",
       "      <td>19950700</td>\n",
       "      <td>23848100</td>\n",
       "      <td>238535</td>\n",
       "      <td>Acetone</td>\n",
       "    </tr>\n",
       "  </tbody>\n",
       "</table>\n",
       "</div>"
      ],
      "text/plain": [
       "   ID  Sensor1   Sensor2   Sensor3  Sensor4 Compound\n",
       "0   1  7724200  19702100  24094500   239833  Acetone\n",
       "1   2  7732180  20105200  23921400   239807  Acetone\n",
       "2   3  7715400  19960900  23898700   239504  Acetone\n",
       "3   4  7765770  19935600  23244900   239611  Acetone\n",
       "4   5  7713900  19939200  23230600   239121  Acetone\n",
       "5   6  7668770  20131300  23661500   238942  Acetone\n",
       "6   7  7680430  19891200  24438300   239002  Acetone\n",
       "7   8  7685920  19946200  23650000   238661  Acetone\n",
       "8   9  7659660  20084000  23766200   238489  Acetone\n",
       "9  10  7639480  19950700  23848100   238535  Acetone"
      ]
     },
     "execution_count": 3,
     "metadata": {},
     "output_type": "execute_result"
    }
   ],
   "source": [
    "#Import data file\n",
    "comp = pd.read_csv('C:\\\\ABC\\\\NewData.csv')\n",
    "comp.head(10)"
   ]
  },
  {
   "cell_type": "code",
   "execution_count": 4,
   "metadata": {},
   "outputs": [
    {
     "data": {
      "text/plain": [
       "Acetone       1020\n",
       "Ethanol        781\n",
       "Xylene         757\n",
       "Benzene        737\n",
       "2-propanol     723\n",
       "Methanol       659\n",
       "Toluene        651\n",
       "Name: Compound, dtype: int64"
      ]
     },
     "execution_count": 4,
     "metadata": {},
     "output_type": "execute_result"
    }
   ],
   "source": [
    "#Data Overview\n",
    "comp['Compound'].value_counts()"
   ]
  },
  {
   "cell_type": "markdown",
   "metadata": {},
   "source": [
    "## Feature Scaling.\n",
    "Our data values are too large and difficult to visualize, so for better visualization to get some insight from the dataset we have to perform **feature scaling.**\n",
    "\n",
    ">**Feature Scaling** is a technique to standardize the independent features present in the data in a fixed range. It is performed during the data pre-processing to handle highly varying magnitudes or values or units.\n",
    "\n",
    "Techniques to perform Feature Scaling\n",
    "\n",
    "* **Min-Max Normalization:** This technique re-scales a feature or observation value with distribution value between 0 and 1.\n",
    "* **Standardization:** It is a very effective technique which re-scales a feature value so that it has distribution with 0 mean value and variance equals to 1."
   ]
  },
  {
   "cell_type": "code",
   "execution_count": 7,
   "metadata": {},
   "outputs": [
    {
     "name": "stdout",
     "output_type": "stream",
     "text": [
      "\n",
      "After Standardisation : \n",
      " [[ 3.40736547  0.91327202  1.32273952 -0.86477103]\n",
      " [ 3.41642904  0.98713877  1.29910266 -0.86518393]\n",
      " [ 3.39737056  0.96069627  1.29600297 -0.86999579]\n",
      " ...\n",
      " [-0.76084946 -0.56168093 -1.24231721  0.48661526]\n",
      " [-0.79226643 -0.56796629 -1.24040605  0.47988183]\n",
      " [-0.78725648 -0.45112818 -1.24854759  0.40956198]]\n",
      "\n",
      "After min max Scaling : \n",
      " [[0.80083462 0.31890407 0.46515205 0.19371014]\n",
      " [0.80252418 0.32921483 0.46098827 0.19359436]\n",
      " [0.79897144 0.32552383 0.46044224 0.192245  ]\n",
      " ...\n",
      " [0.02382625 0.11302138 0.0133008  0.57266914]\n",
      " [0.01796973 0.11214403 0.01363747 0.57078093]\n",
      " [0.01890365 0.12845299 0.01220328 0.55106167]]\n"
     ]
    }
   ],
   "source": [
    "from sklearn import preprocessing\n",
    "\n",
    "#Standardization\n",
    "std_scale = preprocessing.StandardScaler().fit(comp[['Sensor1', 'Sensor2', 'Sensor3', 'Sensor4']])\n",
    "comp_std = std_scale.transform(comp[['Sensor1', 'Sensor2', 'Sensor3', 'Sensor4']])\n",
    "print(\"\\nAfter Standardisation : \\n\", comp_std) \n",
    "\n",
    "#Min-Max Normalization\n",
    "minmax_scale = preprocessing.MinMaxScaler().fit(comp[['Sensor1', 'Sensor2', 'Sensor3', 'Sensor4']])\n",
    "comp_minmax = minmax_scale.transform(comp[['Sensor1', 'Sensor2', 'Sensor3', 'Sensor4']])\n",
    "print (\"\\nAfter min max Scaling : \\n\", comp_minmax) "
   ]
  },
  {
   "cell_type": "code",
   "execution_count": 8,
   "metadata": {},
   "outputs": [
    {
     "ename": "AttributeError",
     "evalue": "'numpy.ndarray' object has no attribute 'plot'",
     "output_type": "error",
     "traceback": [
      "\u001b[1;31m---------------------------------------------------------------------------\u001b[0m",
      "\u001b[1;31mAttributeError\u001b[0m                            Traceback (most recent call last)",
      "\u001b[1;32m<ipython-input-8-3b605f74a872>\u001b[0m in \u001b[0;36m<module>\u001b[1;34m\u001b[0m\n\u001b[0;32m      1\u001b[0m \u001b[1;31m#Plot between Sensor1 and Sensor2\u001b[0m\u001b[1;33m\u001b[0m\u001b[1;33m\u001b[0m\u001b[1;33m\u001b[0m\u001b[0m\n\u001b[1;32m----> 2\u001b[1;33m \u001b[0mcomp_std\u001b[0m\u001b[1;33m.\u001b[0m\u001b[0mplot\u001b[0m\u001b[1;33m(\u001b[0m\u001b[0mkind\u001b[0m\u001b[1;33m=\u001b[0m\u001b[1;34m'scatter'\u001b[0m\u001b[1;33m,\u001b[0m\u001b[0mx\u001b[0m\u001b[1;33m=\u001b[0m\u001b[1;34m'Sensor1'\u001b[0m\u001b[1;33m,\u001b[0m \u001b[0my\u001b[0m\u001b[1;33m=\u001b[0m\u001b[1;34m'Sensor2'\u001b[0m\u001b[1;33m)\u001b[0m\u001b[1;33m\u001b[0m\u001b[1;33m\u001b[0m\u001b[0m\n\u001b[0m",
      "\u001b[1;31mAttributeError\u001b[0m: 'numpy.ndarray' object has no attribute 'plot'"
     ]
    }
   ],
   "source": [
    "#Plot between Sensor1 and Sensor2\n",
    "comp_std.plot(kind='scatter',x='Sensor1', y='Sensor2') "
   ]
  },
  {
   "cell_type": "code",
   "execution_count": 9,
   "metadata": {},
   "outputs": [
    {
     "ename": "AttributeError",
     "evalue": "'numpy.ndarray' object has no attribute 'plot'",
     "output_type": "error",
     "traceback": [
      "\u001b[1;31m---------------------------------------------------------------------------\u001b[0m",
      "\u001b[1;31mAttributeError\u001b[0m                            Traceback (most recent call last)",
      "\u001b[1;32m<ipython-input-9-19c5ba6fbfae>\u001b[0m in \u001b[0;36m<module>\u001b[1;34m\u001b[0m\n\u001b[0;32m      1\u001b[0m \u001b[1;31m# Plot between Sensor3 and Sensor4\u001b[0m\u001b[1;33m\u001b[0m\u001b[1;33m\u001b[0m\u001b[1;33m\u001b[0m\u001b[0m\n\u001b[1;32m----> 2\u001b[1;33m \u001b[0mcomp_std\u001b[0m\u001b[1;33m.\u001b[0m\u001b[0mplot\u001b[0m\u001b[1;33m(\u001b[0m\u001b[0mkind\u001b[0m\u001b[1;33m=\u001b[0m\u001b[1;34m'scatter'\u001b[0m\u001b[1;33m,\u001b[0m\u001b[0mx\u001b[0m\u001b[1;33m=\u001b[0m\u001b[1;34m'Sensor3'\u001b[0m\u001b[1;33m,\u001b[0m \u001b[0my\u001b[0m\u001b[1;33m=\u001b[0m\u001b[1;34m'Sensor4'\u001b[0m\u001b[1;33m)\u001b[0m\u001b[1;33m\u001b[0m\u001b[1;33m\u001b[0m\u001b[0m\n\u001b[0m",
      "\u001b[1;31mAttributeError\u001b[0m: 'numpy.ndarray' object has no attribute 'plot'"
     ]
    }
   ],
   "source": [
    "# Plot between Sensor3 and Sensor4\n",
    "comp_std.plot(kind='scatter',x='Sensor3', y='Sensor4') "
   ]
  },
  {
   "cell_type": "code",
   "execution_count": 45,
   "metadata": {},
   "outputs": [
    {
     "data": {
      "text/plain": [
       "<seaborn.axisgrid.JointGrid at 0x26ce98613a0>"
      ]
     },
     "execution_count": 45,
     "metadata": {},
     "output_type": "execute_result"
    },
    {
     "data": {
      "image/png": "[encoded data removed]",
      "text/plain": [
       "<Figure size 360x360 with 3 Axes>"
      ]
     },
     "metadata": {},
     "output_type": "display_data"
    }
   ],
   "source": [
    "# A seaborn jointplot shows bivariate scatterplots and univariate histograms in the same figure\n",
    "sns.jointplot(x='Sensor1',y='Sensor2', data=comp, size=5)"
   ]
  },
  {
   "cell_type": "code",
   "execution_count": 46,
   "metadata": {},
   "outputs": [
    {
     "data": {
      "text/plain": [
       "(5328, 6)"
      ]
     },
     "execution_count": 46,
     "metadata": {},
     "output_type": "execute_result"
    }
   ],
   "source": [
    "comp.shape"
   ]
  },
  {
   "cell_type": "code",
   "execution_count": 47,
   "metadata": {},
   "outputs": [
    {
     "name": "stdout",
     "output_type": "stream",
     "text": [
      "<class 'pandas.core.frame.DataFrame'>\n",
      "RangeIndex: 5328 entries, 0 to 5327\n",
      "Data columns (total 6 columns):\n",
      " #   Column    Non-Null Count  Dtype \n",
      "---  ------    --------------  ----- \n",
      " 0   ID        5328 non-null   int64 \n",
      " 1   Sensor1   5328 non-null   int64 \n",
      " 2   Sensor2   5328 non-null   int64 \n",
      " 3   Sensor3   5328 non-null   int64 \n",
      " 4   Sensor4   5328 non-null   int64 \n",
      " 5   Compound  5328 non-null   object\n",
      "dtypes: int64(5), object(1)\n",
      "memory usage: 249.9+ KB\n"
     ]
    }
   ],
   "source": [
    "comp.info()"
   ]
  },
  {
   "cell_type": "code",
   "execution_count": 49,
   "metadata": {},
   "outputs": [
    {
     "data": {
      "text/plain": [
       "<seaborn.axisgrid.FacetGrid at 0x26ce9d2cbe0>"
      ]
     },
     "execution_count": 49,
     "metadata": {},
     "output_type": "execute_result"
    },
    {
     "data": {
      "image/png": "[encoded data removed]",
      "text/plain": [
       "<Figure size 452.475x360 with 1 Axes>"
      ]
     },
     "metadata": {},
     "output_type": "display_data"
    }
   ],
   "source": [
    "# use seaborn's FacetGrid to color the scatterplot by species\n",
    "sns.FacetGrid(comp, hue = 'Compound', size=5) \\\n",
    "    .map(plt.scatter, 'Sensor1','Sensor2') \\\n",
    "    .add_legend()"
   ]
  },
  {
   "cell_type": "code",
   "execution_count": 51,
   "metadata": {},
   "outputs": [
    {
     "data": {
      "text/plain": [
       "<matplotlib.axes._subplots.AxesSubplot at 0x26ce9979eb0>"
      ]
     },
     "execution_count": 51,
     "metadata": {},
     "output_type": "execute_result"
    },
    {
     "data": {
      "image/png": "[encoded data removed]",
      "text/plain": [
       "<Figure size 432x288 with 1 Axes>"
      ]
     },
     "metadata": {},
     "output_type": "display_data"
    }
   ],
   "source": [
    "# We can look at an individual feature in Seaborn through a boxplot\n",
    "sns.boxplot(x='Compound', y='Sensor3', data=comp)"
   ]
  },
  {
   "cell_type": "code",
   "execution_count": null,
   "metadata": {},
   "outputs": [],
   "source": []
  }
 ],
 "metadata": {
  "kernelspec": {
   "display_name": "Python 3",
   "language": "python",
   "name": "python3"
  },
  "language_info": {
   "codemirror_mode": {
    "name": "ipython",
    "version": 3
   },
   "file_extension": ".py",
   "mimetype": "text/x-python",
   "name": "python",
   "nbconvert_exporter": "python",
   "pygments_lexer": "ipython3",
   "version": "3.8.3"
  }
 },
 "nbformat": 4,
 "nbformat_minor": 4
}
