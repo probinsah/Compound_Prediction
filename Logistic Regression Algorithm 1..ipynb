{
 "cells": [
  {
   "cell_type": "markdown",
   "metadata": {},
   "source": [
    "## Logistic Regression. \n",
    "* Logistic regression is a machine learning algorithm for classification. \n",
    "\n",
    "**Logistic regression** is based on **Maximum Likelihood (ML) Estimation** which says coefficients should be chosen in such a way that it maximizes the probability of Y given X (likelihood). With ML, the computer uses different “iterations” in which it tries different solutions until it gets the maximum likelihood estimates.\n",
    "\n",
    "**Types of Logistic Regression**\n",
    "* Binary Logistic Regression: The categorical response has only two 2 possible outcomes.\n",
    "* **Multinomial Logistic Regression**: Three or more categories without ordering. (Type of Our Dataset)\n",
    "* Ordinal Logistic Regression: Three or more categories with ordering."
   ]
  },
  {
   "cell_type": "code",
   "execution_count": 1,
   "metadata": {},
   "outputs": [],
   "source": [
    "# Import important libraries\n",
    "import numpy as np #linear algebra\n",
    "import pandas as pd # a data processing and CSV I/O library\n",
    "\n",
    "import warnings # current version of seaborn generates a bunch of warnings that will be ignore\n",
    "warnings.filterwarnings('ignore')\n",
    "\n",
    "# Data Visualization\n",
    "import seaborn as sns\n",
    "import matplotlib.pyplot as plt\n",
    "%matplotlib inline\n",
    "sns.set(style='white', color_codes=True)"
   ]
  },
  {
   "cell_type": "code",
   "execution_count": 2,
   "metadata": {},
   "outputs": [
    {
     "data": {
      "text/html": [
       "<div>\n",
       "<style scoped>\n",
       "    .dataframe tbody tr th:only-of-type {\n",
       "        vertical-align: middle;\n",
       "    }\n",
       "\n",
       "    .dataframe tbody tr th {\n",
       "        vertical-align: top;\n",
       "    }\n",
       "\n",
       "    .dataframe thead th {\n",
       "        text-align: right;\n",
       "    }\n",
       "</style>\n",
       "<table border=\"1\" class=\"dataframe\">\n",
       "  <thead>\n",
       "    <tr style=\"text-align: right;\">\n",
       "      <th></th>\n",
       "      <th>ID</th>\n",
       "      <th>Sensor1</th>\n",
       "      <th>Sensor2</th>\n",
       "      <th>Sensor3</th>\n",
       "      <th>Sensor4</th>\n",
       "      <th>Compound</th>\n",
       "    </tr>\n",
       "  </thead>\n",
       "  <tbody>\n",
       "    <tr>\n",
       "      <th>0</th>\n",
       "      <td>1</td>\n",
       "      <td>7724200</td>\n",
       "      <td>19702100</td>\n",
       "      <td>24094500</td>\n",
       "      <td>239833</td>\n",
       "      <td>Acetone</td>\n",
       "    </tr>\n",
       "    <tr>\n",
       "      <th>1</th>\n",
       "      <td>2</td>\n",
       "      <td>7732180</td>\n",
       "      <td>20105200</td>\n",
       "      <td>23921400</td>\n",
       "      <td>239807</td>\n",
       "      <td>Acetone</td>\n",
       "    </tr>\n",
       "    <tr>\n",
       "      <th>2</th>\n",
       "      <td>3</td>\n",
       "      <td>7715400</td>\n",
       "      <td>19960900</td>\n",
       "      <td>23898700</td>\n",
       "      <td>239504</td>\n",
       "      <td>Acetone</td>\n",
       "    </tr>\n",
       "    <tr>\n",
       "      <th>3</th>\n",
       "      <td>4</td>\n",
       "      <td>7765770</td>\n",
       "      <td>19935600</td>\n",
       "      <td>23244900</td>\n",
       "      <td>239611</td>\n",
       "      <td>Acetone</td>\n",
       "    </tr>\n",
       "    <tr>\n",
       "      <th>4</th>\n",
       "      <td>5</td>\n",
       "      <td>7713900</td>\n",
       "      <td>19939200</td>\n",
       "      <td>23230600</td>\n",
       "      <td>239121</td>\n",
       "      <td>Acetone</td>\n",
       "    </tr>\n",
       "    <tr>\n",
       "      <th>5</th>\n",
       "      <td>6</td>\n",
       "      <td>7668770</td>\n",
       "      <td>20131300</td>\n",
       "      <td>23661500</td>\n",
       "      <td>238942</td>\n",
       "      <td>Acetone</td>\n",
       "    </tr>\n",
       "    <tr>\n",
       "      <th>6</th>\n",
       "      <td>7</td>\n",
       "      <td>7680430</td>\n",
       "      <td>19891200</td>\n",
       "      <td>24438300</td>\n",
       "      <td>239002</td>\n",
       "      <td>Acetone</td>\n",
       "    </tr>\n",
       "    <tr>\n",
       "      <th>7</th>\n",
       "      <td>8</td>\n",
       "      <td>7685920</td>\n",
       "      <td>19946200</td>\n",
       "      <td>23650000</td>\n",
       "      <td>238661</td>\n",
       "      <td>Acetone</td>\n",
       "    </tr>\n",
       "    <tr>\n",
       "      <th>8</th>\n",
       "      <td>9</td>\n",
       "      <td>7659660</td>\n",
       "      <td>20084000</td>\n",
       "      <td>23766200</td>\n",
       "      <td>238489</td>\n",
       "      <td>Acetone</td>\n",
       "    </tr>\n",
       "    <tr>\n",
       "      <th>9</th>\n",
       "      <td>10</td>\n",
       "      <td>7639480</td>\n",
       "      <td>19950700</td>\n",
       "      <td>23848100</td>\n",
       "      <td>238535</td>\n",
       "      <td>Acetone</td>\n",
       "    </tr>\n",
       "  </tbody>\n",
       "</table>\n",
       "</div>"
      ],
      "text/plain": [
       "   ID  Sensor1   Sensor2   Sensor3  Sensor4 Compound\n",
       "0   1  7724200  19702100  24094500   239833  Acetone\n",
       "1   2  7732180  20105200  23921400   239807  Acetone\n",
       "2   3  7715400  19960900  23898700   239504  Acetone\n",
       "3   4  7765770  19935600  23244900   239611  Acetone\n",
       "4   5  7713900  19939200  23230600   239121  Acetone\n",
       "5   6  7668770  20131300  23661500   238942  Acetone\n",
       "6   7  7680430  19891200  24438300   239002  Acetone\n",
       "7   8  7685920  19946200  23650000   238661  Acetone\n",
       "8   9  7659660  20084000  23766200   238489  Acetone\n",
       "9  10  7639480  19950700  23848100   238535  Acetone"
      ]
     },
     "execution_count": 2,
     "metadata": {},
     "output_type": "execute_result"
    }
   ],
   "source": [
    "#Import data file\n",
    "df = pd.read_csv('C:\\\\ABC\\\\NewData.csv')\n",
    "df.head(10)"
   ]
  },
  {
   "cell_type": "code",
   "execution_count": 3,
   "metadata": {},
   "outputs": [
    {
     "data": {
      "text/plain": [
       "Acetone       1020\n",
       "Ethanol        781\n",
       "Xylene         757\n",
       "Benzene        737\n",
       "2-propanol     723\n",
       "Methanol       659\n",
       "Toluene        651\n",
       "Name: Compound, dtype: int64"
      ]
     },
     "execution_count": 3,
     "metadata": {},
     "output_type": "execute_result"
    }
   ],
   "source": [
    "#Data Overview\n",
    "df['Compound'].value_counts()"
   ]
  },
  {
   "cell_type": "code",
   "execution_count": 4,
   "metadata": {},
   "outputs": [],
   "source": [
    "# Removing Unnecessary Column\n",
    "df.drop(\"ID\", axis=1, inplace = True)"
   ]
  },
  {
   "cell_type": "code",
   "execution_count": 5,
   "metadata": {},
   "outputs": [
    {
     "data": {
      "text/plain": [
       "(5328, 5)"
      ]
     },
     "execution_count": 5,
     "metadata": {},
     "output_type": "execute_result"
    }
   ],
   "source": [
    "df.shape"
   ]
  },
  {
   "attachments": {
    "training.png": {
     "image/png": "[encoded data removed]"
    }
   },
   "cell_type": "markdown",
   "metadata": {},
   "source": [
    "### Splitting The Data into Training And Testing Dataset for Logistic Regression.\n",
    "The data we use is split into **training data** and **test data**. The training set contains a known output and the model learns on this data in order to be generalized to other data later on. We have the test dataset (or subset) in order to test our model’s prediction on this subset.![training.png](attachment:training.png)"
   ]
  },
  {
   "cell_type": "code",
   "execution_count": 6,
   "metadata": {},
   "outputs": [
    {
     "name": "stdout",
     "output_type": "stream",
     "text": [
      "(3729, 5)\n",
      "(1599, 5)\n"
     ]
    }
   ],
   "source": [
    "from sklearn.model_selection import train_test_split # to split the dataset for training and testing\n",
    "from sklearn import metrics # for checking the model accuracy\n",
    "train, test = train_test_split(df, test_size=0.3) # our main data split into train and test\n",
    "# the attribute test_size=0.3 splits the data into 70% and 30% ratio. train=70% and test=30%\n",
    "print(train.shape)\n",
    "print(test.shape)"
   ]
  },
  {
   "cell_type": "code",
   "execution_count": 15,
   "metadata": {},
   "outputs": [],
   "source": [
    "X_train = train[['Sensor1','Sensor2','Sensor3','Sensor4']] # taking the training data features\n",
    "y_train = train.Compound # output of the training data\n",
    "\n",
    "X_test = test[['Sensor1','Sensor2','Sensor3','Sensor4']] # taking test data feature\n",
    "y_test = test.Compound # output value of the test data"
   ]
  },
  {
   "cell_type": "code",
   "execution_count": 16,
   "metadata": {},
   "outputs": [
    {
     "data": {
      "text/html": [
       "<div>\n",
       "<style scoped>\n",
       "    .dataframe tbody tr th:only-of-type {\n",
       "        vertical-align: middle;\n",
       "    }\n",
       "\n",
       "    .dataframe tbody tr th {\n",
       "        vertical-align: top;\n",
       "    }\n",
       "\n",
       "    .dataframe thead th {\n",
       "        text-align: right;\n",
       "    }\n",
       "</style>\n",
       "<table border=\"1\" class=\"dataframe\">\n",
       "  <thead>\n",
       "    <tr style=\"text-align: right;\">\n",
       "      <th></th>\n",
       "      <th>Sensor1</th>\n",
       "      <th>Sensor2</th>\n",
       "      <th>Sensor3</th>\n",
       "      <th>Sensor4</th>\n",
       "    </tr>\n",
       "  </thead>\n",
       "  <tbody>\n",
       "    <tr>\n",
       "      <th>641</th>\n",
       "      <td>4046260</td>\n",
       "      <td>13673375</td>\n",
       "      <td>17435440</td>\n",
       "      <td>204578</td>\n",
       "    </tr>\n",
       "    <tr>\n",
       "      <th>4794</th>\n",
       "      <td>4407980</td>\n",
       "      <td>20950300</td>\n",
       "      <td>5384340</td>\n",
       "      <td>356343</td>\n",
       "    </tr>\n",
       "    <tr>\n",
       "      <th>3343</th>\n",
       "      <td>7574400</td>\n",
       "      <td>22995000</td>\n",
       "      <td>22995000</td>\n",
       "      <td>345325</td>\n",
       "    </tr>\n",
       "    <tr>\n",
       "      <th>475</th>\n",
       "      <td>4395690</td>\n",
       "      <td>13891663</td>\n",
       "      <td>17141955</td>\n",
       "      <td>213600</td>\n",
       "    </tr>\n",
       "    <tr>\n",
       "      <th>4209</th>\n",
       "      <td>4623360</td>\n",
       "      <td>10900200</td>\n",
       "      <td>4900480</td>\n",
       "      <td>326655</td>\n",
       "    </tr>\n",
       "  </tbody>\n",
       "</table>\n",
       "</div>"
      ],
      "text/plain": [
       "      Sensor1   Sensor2   Sensor3  Sensor4\n",
       "641   4046260  13673375  17435440   204578\n",
       "4794  4407980  20950300   5384340   356343\n",
       "3343  7574400  22995000  22995000   345325\n",
       "475   4395690  13891663  17141955   213600\n",
       "4209  4623360  10900200   4900480   326655"
      ]
     },
     "execution_count": 16,
     "metadata": {},
     "output_type": "execute_result"
    }
   ],
   "source": [
    "# View of Our Training Dataset. \n",
    "X_train.head()"
   ]
  },
  {
   "cell_type": "code",
   "execution_count": 17,
   "metadata": {},
   "outputs": [
    {
     "data": {
      "text/html": [
       "<div>\n",
       "<style scoped>\n",
       "    .dataframe tbody tr th:only-of-type {\n",
       "        vertical-align: middle;\n",
       "    }\n",
       "\n",
       "    .dataframe tbody tr th {\n",
       "        vertical-align: top;\n",
       "    }\n",
       "\n",
       "    .dataframe thead th {\n",
       "        text-align: right;\n",
       "    }\n",
       "</style>\n",
       "<table border=\"1\" class=\"dataframe\">\n",
       "  <thead>\n",
       "    <tr style=\"text-align: right;\">\n",
       "      <th></th>\n",
       "      <th>Sensor1</th>\n",
       "      <th>Sensor2</th>\n",
       "      <th>Sensor3</th>\n",
       "      <th>Sensor4</th>\n",
       "    </tr>\n",
       "  </thead>\n",
       "  <tbody>\n",
       "    <tr>\n",
       "      <th>1143</th>\n",
       "      <td>4820380</td>\n",
       "      <td>17964500</td>\n",
       "      <td>21860600</td>\n",
       "      <td>383717</td>\n",
       "    </tr>\n",
       "    <tr>\n",
       "      <th>1315</th>\n",
       "      <td>4336980</td>\n",
       "      <td>11724200</td>\n",
       "      <td>20891200</td>\n",
       "      <td>373337</td>\n",
       "    </tr>\n",
       "    <tr>\n",
       "      <th>1346</th>\n",
       "      <td>4270840</td>\n",
       "      <td>10935800</td>\n",
       "      <td>20063300</td>\n",
       "      <td>372925</td>\n",
       "    </tr>\n",
       "    <tr>\n",
       "      <th>2066</th>\n",
       "      <td>4238510</td>\n",
       "      <td>10929400</td>\n",
       "      <td>7440190</td>\n",
       "      <td>323904</td>\n",
       "    </tr>\n",
       "    <tr>\n",
       "      <th>212</th>\n",
       "      <td>4659230</td>\n",
       "      <td>13555000</td>\n",
       "      <td>18497400</td>\n",
       "      <td>222400</td>\n",
       "    </tr>\n",
       "  </tbody>\n",
       "</table>\n",
       "</div>"
      ],
      "text/plain": [
       "      Sensor1   Sensor2   Sensor3  Sensor4\n",
       "1143  4820380  17964500  21860600   383717\n",
       "1315  4336980  11724200  20891200   373337\n",
       "1346  4270840  10935800  20063300   372925\n",
       "2066  4238510  10929400   7440190   323904\n",
       "212   4659230  13555000  18497400   222400"
      ]
     },
     "execution_count": 17,
     "metadata": {},
     "output_type": "execute_result"
    }
   ],
   "source": [
    "# View of Our Testing Dataset.\n",
    "X_test.head()"
   ]
  },
  {
   "cell_type": "code",
   "execution_count": 18,
   "metadata": {},
   "outputs": [
    {
     "data": {
      "text/plain": [
       "641      Acetone\n",
       "4794      Xylene\n",
       "3343    Methanol\n",
       "475      Acetone\n",
       "4209     Toluene\n",
       "Name: Compound, dtype: object"
      ]
     },
     "execution_count": 18,
     "metadata": {},
     "output_type": "execute_result"
    }
   ],
   "source": [
    "y_train.head()"
   ]
  },
  {
   "cell_type": "markdown",
   "metadata": {},
   "source": [
    "## Fitting Classifier."
   ]
  },
  {
   "cell_type": "code",
   "execution_count": 27,
   "metadata": {},
   "outputs": [
    {
     "data": {
      "text/plain": [
       "LogisticRegression(random_state=42, solver='liblinear')"
      ]
     },
     "execution_count": 27,
     "metadata": {},
     "output_type": "execute_result"
    }
   ],
   "source": [
    "# Fitting Classifier to the Training Set\n",
    "from sklearn.linear_model import LogisticRegression\n",
    "from sklearn.metrics import classification_report, confusion_matrix\n",
    "classifier = LogisticRegression(solver='liblinear', random_state=42)\n",
    "classifier.fit(X_train, y_train)"
   ]
  },
  {
   "cell_type": "code",
   "execution_count": 28,
   "metadata": {},
   "outputs": [
    {
     "name": "stdout",
     "output_type": "stream",
     "text": [
      "Accuracy: 0.95\n",
      "Confusion Matrix: \n",
      " [[511   0   0   0   1   0   0]\n",
      " [  0 732   0   7   2   0   0]\n",
      " [  0   0 487   0   0   0  16]\n",
      " [  0   8   0 544   0   0   0]\n",
      " [  0 100   0   0 346   0   0]\n",
      " [  0   0   0   0   0 458  18]\n",
      " [  0   0  21   0   0   9 469]]\n",
      "              precision    recall  f1-score   support\n",
      "\n",
      "  2-propanol       1.00      1.00      1.00       512\n",
      "     Acetone       0.87      0.99      0.93       741\n",
      "     Benzene       0.96      0.97      0.96       503\n",
      "     Ethanol       0.99      0.99      0.99       552\n",
      "    Methanol       0.99      0.78      0.87       446\n",
      "     Toluene       0.98      0.96      0.97       476\n",
      "      Xylene       0.93      0.94      0.94       499\n",
      "\n",
      "    accuracy                           0.95      3729\n",
      "   macro avg       0.96      0.95      0.95      3729\n",
      "weighted avg       0.95      0.95      0.95      3729\n",
      "\n"
     ]
    }
   ],
   "source": [
    "# Model performance on training set\n",
    "y_pred_train =classifier.predict(X_train)\n",
    "\n",
    "from sklearn import metrics\n",
    "from sklearn.metrics import confusion_matrix, classification_report\n",
    "\n",
    "accuracy = metrics.accuracy_score(y_train, y_pred_train)\n",
    "print(\"Accuracy: {:.2f}\".format(accuracy))\n",
    "cm=confusion_matrix(y_train,y_pred_train)\n",
    "print('Confusion Matrix: \\n', cm)\n",
    "print(classification_report(y_train, y_pred_train))"
   ]
  },
  {
   "cell_type": "code",
   "execution_count": 29,
   "metadata": {},
   "outputs": [
    {
     "name": "stdout",
     "output_type": "stream",
     "text": [
      "Accuracy: 0.95\n",
      "Confusion Matrix: \n",
      " [[211   0   0   0   0   0   0]\n",
      " [  0 275   0   4   0   0   0]\n",
      " [  0   0 228   0   0   0   6]\n",
      " [  0   3   0 226   0   0   0]\n",
      " [  0  42   0   0 171   0   0]\n",
      " [  0   0   2   0   0 169   4]\n",
      " [  0   0  12   0   0   5 241]]\n",
      "              precision    recall  f1-score   support\n",
      "\n",
      "  2-propanol       1.00      1.00      1.00       211\n",
      "     Acetone       0.86      0.99      0.92       279\n",
      "     Benzene       0.94      0.97      0.96       234\n",
      "     Ethanol       0.98      0.99      0.98       229\n",
      "    Methanol       1.00      0.80      0.89       213\n",
      "     Toluene       0.97      0.97      0.97       175\n",
      "      Xylene       0.96      0.93      0.95       258\n",
      "\n",
      "    accuracy                           0.95      1599\n",
      "   macro avg       0.96      0.95      0.95      1599\n",
      "weighted avg       0.95      0.95      0.95      1599\n",
      "\n"
     ]
    }
   ],
   "source": [
    "# Predicting the test results\n",
    "y_pred=classifier.predict(X_test)\n",
    "\n",
    "# Classification results on test set\n",
    "from sklearn import metrics\n",
    "accuracy = metrics.accuracy_score(y_test, y_pred)\n",
    "print(\"Accuracy: {:.2f}\".format(accuracy))\n",
    "\n",
    "from sklearn.metrics import confusion_matrix, classification_report\n",
    "cm=confusion_matrix(y_test,y_pred)\n",
    "print('Confusion Matrix: \\n', cm)\n",
    "print(classification_report(y_test, y_pred))"
   ]
  },
  {
   "cell_type": "markdown",
   "metadata": {},
   "source": [
    "### Applying Logistic Regression Algorithm. "
   ]
  },
  {
   "cell_type": "code",
   "execution_count": 30,
   "metadata": {},
   "outputs": [
    {
     "name": "stdout",
     "output_type": "stream",
     "text": [
      "The accuracy of Logistic Regression is:  0.9706066291432145\n"
     ]
    }
   ],
   "source": [
    "# importing the necessary packages to use the Logistic Regression classification algorithms.\n",
    "from sklearn.linear_model import LogisticRegression \n",
    "model = LogisticRegression()\n",
    "model.fit(X_train, y_train)\n",
    "prediction = model.predict(X_test)\n",
    "print('The accuracy of Logistic Regression is: ', metrics.accuracy_score(prediction, test_y))"
   ]
  },
  {
   "cell_type": "code",
   "execution_count": 31,
   "metadata": {},
   "outputs": [
    {
     "data": {
      "text/plain": [
       "array([[206,   4,   0,   1,   0,   0,   0],\n",
       "       [  0, 279,   0,   0,   0,   0,   0],\n",
       "       [  0,   0, 234,   0,   0,   0,   0],\n",
       "       [  0,  10,   0, 219,   0,   0,   0],\n",
       "       [  0,   3,   0,   0, 210,   0,   0],\n",
       "       [  0,   0,   0,   0,   0, 168,   7],\n",
       "       [  0,   0,   0,   0,   0,  22, 236]], dtype=int64)"
      ]
     },
     "execution_count": 31,
     "metadata": {},
     "output_type": "execute_result"
    }
   ],
   "source": [
    "#Confusion Matrix for Logistic Regression\n",
    "from sklearn.metrics import confusion_matrix\n",
    "from sklearn.metrics import plot_confusion_matrix\n",
    "cm = confusion_matrix(y_test, prediction)\n",
    "cm"
   ]
  },
  {
   "cell_type": "code",
   "execution_count": 35,
   "metadata": {},
   "outputs": [
    {
     "name": "stdout",
     "output_type": "stream",
     "text": [
      "*** Test Accuracy *** 0.9706066291432145\n"
     ]
    },
    {
     "data": {
      "image/png": "[encoded data removed]",
      "text/plain": [
       "<Figure size 432x288 with 2 Axes>"
      ]
     },
     "metadata": {},
     "output_type": "display_data"
    }
   ],
   "source": [
    "print('*** Test Accuracy ***',model.score(X_test,y_test))\n",
    "disp = plot_confusion_matrix(model, X_test, y_test,\n",
    "                                 display_labels=['Acetone','Ethanol','2-propanol','Benzene','Methanol','Xylene','Toluene'],\n",
    "                                 xticks_rotation=90,cmap=plt.cm.Blues,\n",
    "                             values_format='g'\n",
    "                            )"
   ]
  },
  {
   "cell_type": "markdown",
   "metadata": {},
   "source": [
    "## Observation.\n",
    "We have applied Logistic Regression on our present data as we know that logistic Regression is use for classification, we are getting an accuracy of 96.31 % for our dataset. \n",
    "The following Confusion Matrix is also justifying our accuracy. "
   ]
  }
 ],
 "metadata": {
  "kernelspec": {
   "display_name": "Python 3",
   "language": "python",
   "name": "python3"
  },
  "language_info": {
   "codemirror_mode": {
    "name": "ipython",
    "version": 3
   },
   "file_extension": ".py",
   "mimetype": "text/x-python",
   "name": "python",
   "nbconvert_exporter": "python",
   "pygments_lexer": "ipython3",
   "version": "3.8.3"
  }
 },
 "nbformat": 4,
 "nbformat_minor": 4
}
